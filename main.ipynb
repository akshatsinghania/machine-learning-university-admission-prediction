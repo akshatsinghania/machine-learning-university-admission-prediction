{
 "metadata": {
  "language_info": {
   "codemirror_mode": {
    "name": "ipython",
    "version": 3
   },
   "file_extension": ".py",
   "mimetype": "text/x-python",
   "name": "python",
   "nbconvert_exporter": "python",
   "pygments_lexer": "ipython3",
   "version": "3.8.6-final"
  },
  "orig_nbformat": 2,
  "kernelspec": {
   "name": "python3",
   "display_name": "Python 3.8.6 64-bit",
   "metadata": {
    "interpreter": {
     "hash": "28a2e00ad16ed17026fe3c851893c02ecff7086fce6a882c7fbbdd03c8dd5f94"
    }
   }
  }
 },
 "nbformat": 4,
 "nbformat_minor": 2,
 "cells": [
  {
   "cell_type": "code",
   "execution_count": 13,
   "metadata": {},
   "outputs": [
    {
     "output_type": "execute_result",
     "data": {
      "text/plain": [
       "array([46], dtype=int64)"
      ]
     },
     "metadata": {},
     "execution_count": 13
    }
   ],
   "source": [
    "import pandas as pd\n",
    "from sklearn.tree import DecisionTreeClassifier\n",
    "\n",
    "admission_data = pd.read_csv('data.csv').drop(columns=['Serial No'])\n",
    "\n",
    "X = admission_data.drop(columns=['AdminChance'])\n",
    "y = admission_data['AdminChance']\n",
    "\n",
    "model = DecisionTreeClassifier()\n",
    "model.fit(X,y)\n",
    "\n",
    "\n",
    "#For Example if you get full on all exams\n",
    "predictions = model.predict([[340,120,50,100,50,1000,1]])\n",
    "predictions\n",
    "\n",
    "#For Example if none marks in exams\n",
    "predictions = model.predict([[0,0,0,0,0,0,0]])\n",
    "predictions\n",
    "\n",
    "\n",
    "\n",
    "\n"
   ]
  },
  {
   "cell_type": "code",
   "execution_count": null,
   "metadata": {},
   "outputs": [],
   "source": []
  }
 ]
}